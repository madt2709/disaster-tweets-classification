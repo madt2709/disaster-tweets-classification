{
 "cells": [
  {
   "cell_type": "code",
   "execution_count": 1,
   "id": "c2cbbc5a",
   "metadata": {
    "_cell_guid": "b1076dfc-b9ad-4769-8c92-a6c4dae69d19",
    "_uuid": "8f2839f25d086af736a60e9eeb907d3b93b6e0e5",
    "execution": {
     "iopub.execute_input": "2023-04-17T17:41:31.404481Z",
     "iopub.status.busy": "2023-04-17T17:41:31.403611Z",
     "iopub.status.idle": "2023-04-17T17:41:31.420104Z",
     "shell.execute_reply": "2023-04-17T17:41:31.418750Z"
    },
    "papermill": {
     "duration": 0.033423,
     "end_time": "2023-04-17T17:41:31.422674",
     "exception": false,
     "start_time": "2023-04-17T17:41:31.389251",
     "status": "completed"
    },
    "tags": []
   },
   "outputs": [
    {
     "name": "stdout",
     "output_type": "stream",
     "text": [
      "/kaggle/input/nlp-getting-started/sample_submission.csv\n",
      "/kaggle/input/nlp-getting-started/train.csv\n",
      "/kaggle/input/nlp-getting-started/test.csv\n"
     ]
    }
   ],
   "source": [
    "# This Python 3 environment comes with many helpful analytics libraries installed\n",
    "# It is defined by the kaggle/python Docker image: https://github.com/kaggle/docker-python\n",
    "# For example, here's several helpful packages to load\n",
    "\n",
    "import numpy as np # linear algebra\n",
    "import pandas as pd # data processing, CSV file I/O (e.g. pd.read_csv)\n",
    "\n",
    "# Input data files are available in the read-only \"../input/\" directory\n",
    "# For example, running this (by clicking run or pressing Shift+Enter) will list all files under the input directory\n",
    "\n",
    "import os\n",
    "for dirname, _, filenames in os.walk('/kaggle/input'):\n",
    "    for filename in filenames:\n",
    "        print(os.path.join(dirname, filename))\n",
    "\n",
    "# You can write up to 20GB to the current directory (/kaggle/working/) that gets preserved as output when you create a version using \"Save & Run All\" \n",
    "# You can also write temporary files to /kaggle/temp/, but they won't be saved outside of the current session"
   ]
  },
  {
   "cell_type": "code",
   "execution_count": 2,
   "id": "443caf0c",
   "metadata": {
    "execution": {
     "iopub.execute_input": "2023-04-17T17:41:31.446391Z",
     "iopub.status.busy": "2023-04-17T17:41:31.445659Z",
     "iopub.status.idle": "2023-04-17T17:41:31.515550Z",
     "shell.execute_reply": "2023-04-17T17:41:31.514395Z"
    },
    "papermill": {
     "duration": 0.084803,
     "end_time": "2023-04-17T17:41:31.518238",
     "exception": false,
     "start_time": "2023-04-17T17:41:31.433435",
     "status": "completed"
    },
    "tags": []
   },
   "outputs": [],
   "source": [
    "train_df = pd.read_csv(\"/kaggle/input/nlp-getting-started/train.csv\")\n",
    "test_df = pd.read_csv(\"/kaggle/input/nlp-getting-started/test.csv\")"
   ]
  },
  {
   "cell_type": "markdown",
   "id": "ffc41324",
   "metadata": {
    "papermill": {
     "duration": 0.012636,
     "end_time": "2023-04-17T17:41:31.541759",
     "exception": false,
     "start_time": "2023-04-17T17:41:31.529123",
     "status": "completed"
    },
    "tags": []
   },
   "source": [
    "### Explore the data"
   ]
  },
  {
   "cell_type": "code",
   "execution_count": 3,
   "id": "e019e100",
   "metadata": {
    "execution": {
     "iopub.execute_input": "2023-04-17T17:41:31.566638Z",
     "iopub.status.busy": "2023-04-17T17:41:31.565924Z",
     "iopub.status.idle": "2023-04-17T17:41:31.593947Z",
     "shell.execute_reply": "2023-04-17T17:41:31.592686Z"
    },
    "papermill": {
     "duration": 0.044092,
     "end_time": "2023-04-17T17:41:31.596395",
     "exception": false,
     "start_time": "2023-04-17T17:41:31.552303",
     "status": "completed"
    },
    "tags": []
   },
   "outputs": [
    {
     "data": {
      "text/html": [
       "<div>\n",
       "<style scoped>\n",
       "    .dataframe tbody tr th:only-of-type {\n",
       "        vertical-align: middle;\n",
       "    }\n",
       "\n",
       "    .dataframe tbody tr th {\n",
       "        vertical-align: top;\n",
       "    }\n",
       "\n",
       "    .dataframe thead th {\n",
       "        text-align: right;\n",
       "    }\n",
       "</style>\n",
       "<table border=\"1\" class=\"dataframe\">\n",
       "  <thead>\n",
       "    <tr style=\"text-align: right;\">\n",
       "      <th></th>\n",
       "      <th>id</th>\n",
       "      <th>keyword</th>\n",
       "      <th>location</th>\n",
       "      <th>text</th>\n",
       "      <th>target</th>\n",
       "    </tr>\n",
       "  </thead>\n",
       "  <tbody>\n",
       "    <tr>\n",
       "      <th>0</th>\n",
       "      <td>1</td>\n",
       "      <td>NaN</td>\n",
       "      <td>NaN</td>\n",
       "      <td>Our Deeds are the Reason of this #earthquake M...</td>\n",
       "      <td>1</td>\n",
       "    </tr>\n",
       "    <tr>\n",
       "      <th>1</th>\n",
       "      <td>4</td>\n",
       "      <td>NaN</td>\n",
       "      <td>NaN</td>\n",
       "      <td>Forest fire near La Ronge Sask. Canada</td>\n",
       "      <td>1</td>\n",
       "    </tr>\n",
       "    <tr>\n",
       "      <th>2</th>\n",
       "      <td>5</td>\n",
       "      <td>NaN</td>\n",
       "      <td>NaN</td>\n",
       "      <td>All residents asked to 'shelter in place' are ...</td>\n",
       "      <td>1</td>\n",
       "    </tr>\n",
       "    <tr>\n",
       "      <th>3</th>\n",
       "      <td>6</td>\n",
       "      <td>NaN</td>\n",
       "      <td>NaN</td>\n",
       "      <td>13,000 people receive #wildfires evacuation or...</td>\n",
       "      <td>1</td>\n",
       "    </tr>\n",
       "    <tr>\n",
       "      <th>4</th>\n",
       "      <td>7</td>\n",
       "      <td>NaN</td>\n",
       "      <td>NaN</td>\n",
       "      <td>Just got sent this photo from Ruby #Alaska as ...</td>\n",
       "      <td>1</td>\n",
       "    </tr>\n",
       "  </tbody>\n",
       "</table>\n",
       "</div>"
      ],
      "text/plain": [
       "   id keyword location                                               text  \\\n",
       "0   1     NaN      NaN  Our Deeds are the Reason of this #earthquake M...   \n",
       "1   4     NaN      NaN             Forest fire near La Ronge Sask. Canada   \n",
       "2   5     NaN      NaN  All residents asked to 'shelter in place' are ...   \n",
       "3   6     NaN      NaN  13,000 people receive #wildfires evacuation or...   \n",
       "4   7     NaN      NaN  Just got sent this photo from Ruby #Alaska as ...   \n",
       "\n",
       "   target  \n",
       "0       1  \n",
       "1       1  \n",
       "2       1  \n",
       "3       1  \n",
       "4       1  "
      ]
     },
     "execution_count": 3,
     "metadata": {},
     "output_type": "execute_result"
    }
   ],
   "source": [
    "train_df.head()"
   ]
  },
  {
   "cell_type": "code",
   "execution_count": 4,
   "id": "072a7fb0",
   "metadata": {
    "execution": {
     "iopub.execute_input": "2023-04-17T17:41:31.620103Z",
     "iopub.status.busy": "2023-04-17T17:41:31.619661Z",
     "iopub.status.idle": "2023-04-17T17:41:31.637035Z",
     "shell.execute_reply": "2023-04-17T17:41:31.635929Z"
    },
    "papermill": {
     "duration": 0.032427,
     "end_time": "2023-04-17T17:41:31.639603",
     "exception": false,
     "start_time": "2023-04-17T17:41:31.607176",
     "status": "completed"
    },
    "tags": []
   },
   "outputs": [
    {
     "data": {
      "text/html": [
       "<div>\n",
       "<style scoped>\n",
       "    .dataframe tbody tr th:only-of-type {\n",
       "        vertical-align: middle;\n",
       "    }\n",
       "\n",
       "    .dataframe tbody tr th {\n",
       "        vertical-align: top;\n",
       "    }\n",
       "\n",
       "    .dataframe thead th {\n",
       "        text-align: right;\n",
       "    }\n",
       "</style>\n",
       "<table border=\"1\" class=\"dataframe\">\n",
       "  <thead>\n",
       "    <tr style=\"text-align: right;\">\n",
       "      <th></th>\n",
       "      <th>id</th>\n",
       "      <th>keyword</th>\n",
       "      <th>location</th>\n",
       "      <th>text</th>\n",
       "      <th>target</th>\n",
       "    </tr>\n",
       "  </thead>\n",
       "  <tbody>\n",
       "    <tr>\n",
       "      <th>15</th>\n",
       "      <td>23</td>\n",
       "      <td>NaN</td>\n",
       "      <td>NaN</td>\n",
       "      <td>What's up man?</td>\n",
       "      <td>0</td>\n",
       "    </tr>\n",
       "    <tr>\n",
       "      <th>16</th>\n",
       "      <td>24</td>\n",
       "      <td>NaN</td>\n",
       "      <td>NaN</td>\n",
       "      <td>I love fruits</td>\n",
       "      <td>0</td>\n",
       "    </tr>\n",
       "    <tr>\n",
       "      <th>17</th>\n",
       "      <td>25</td>\n",
       "      <td>NaN</td>\n",
       "      <td>NaN</td>\n",
       "      <td>Summer is lovely</td>\n",
       "      <td>0</td>\n",
       "    </tr>\n",
       "    <tr>\n",
       "      <th>18</th>\n",
       "      <td>26</td>\n",
       "      <td>NaN</td>\n",
       "      <td>NaN</td>\n",
       "      <td>My car is so fast</td>\n",
       "      <td>0</td>\n",
       "    </tr>\n",
       "    <tr>\n",
       "      <th>19</th>\n",
       "      <td>28</td>\n",
       "      <td>NaN</td>\n",
       "      <td>NaN</td>\n",
       "      <td>What a goooooooaaaaaal!!!!!!</td>\n",
       "      <td>0</td>\n",
       "    </tr>\n",
       "  </tbody>\n",
       "</table>\n",
       "</div>"
      ],
      "text/plain": [
       "    id keyword location                          text  target\n",
       "15  23     NaN      NaN                What's up man?       0\n",
       "16  24     NaN      NaN                 I love fruits       0\n",
       "17  25     NaN      NaN              Summer is lovely       0\n",
       "18  26     NaN      NaN             My car is so fast       0\n",
       "19  28     NaN      NaN  What a goooooooaaaaaal!!!!!!       0"
      ]
     },
     "execution_count": 4,
     "metadata": {},
     "output_type": "execute_result"
    }
   ],
   "source": [
    "# only had disaster tweets examples above\n",
    "# example of what is not a disaster tweet\n",
    "train_df[train_df[\"target\"] == 0].head()"
   ]
  },
  {
   "cell_type": "code",
   "execution_count": 5,
   "id": "892b3799",
   "metadata": {
    "execution": {
     "iopub.execute_input": "2023-04-17T17:41:31.663781Z",
     "iopub.status.busy": "2023-04-17T17:41:31.662789Z",
     "iopub.status.idle": "2023-04-17T17:41:31.670278Z",
     "shell.execute_reply": "2023-04-17T17:41:31.669134Z"
    },
    "papermill": {
     "duration": 0.022093,
     "end_time": "2023-04-17T17:41:31.672651",
     "exception": false,
     "start_time": "2023-04-17T17:41:31.650558",
     "status": "completed"
    },
    "tags": []
   },
   "outputs": [
    {
     "data": {
      "text/plain": [
       "(7613, 5)"
      ]
     },
     "execution_count": 5,
     "metadata": {},
     "output_type": "execute_result"
    }
   ],
   "source": [
    "# shape of dataset\n",
    "train_df.shape"
   ]
  },
  {
   "cell_type": "code",
   "execution_count": 6,
   "id": "d22599e6",
   "metadata": {
    "execution": {
     "iopub.execute_input": "2023-04-17T17:41:31.697267Z",
     "iopub.status.busy": "2023-04-17T17:41:31.696598Z",
     "iopub.status.idle": "2023-04-17T17:41:31.704663Z",
     "shell.execute_reply": "2023-04-17T17:41:31.703644Z"
    },
    "papermill": {
     "duration": 0.022951,
     "end_time": "2023-04-17T17:41:31.706892",
     "exception": false,
     "start_time": "2023-04-17T17:41:31.683941",
     "status": "completed"
    },
    "tags": []
   },
   "outputs": [
    {
     "data": {
      "text/plain": [
       "61"
      ]
     },
     "execution_count": 6,
     "metadata": {},
     "output_type": "execute_result"
    }
   ],
   "source": [
    "# count null values for keyword\n",
    "train_df[\"keyword\"].isna().sum()"
   ]
  },
  {
   "cell_type": "code",
   "execution_count": 7,
   "id": "6f7470a5",
   "metadata": {
    "execution": {
     "iopub.execute_input": "2023-04-17T17:41:31.731878Z",
     "iopub.status.busy": "2023-04-17T17:41:31.731193Z",
     "iopub.status.idle": "2023-04-17T17:41:31.745432Z",
     "shell.execute_reply": "2023-04-17T17:41:31.744098Z"
    },
    "papermill": {
     "duration": 0.02998,
     "end_time": "2023-04-17T17:41:31.747929",
     "exception": false,
     "start_time": "2023-04-17T17:41:31.717949",
     "status": "completed"
    },
    "tags": []
   },
   "outputs": [
    {
     "data": {
      "text/html": [
       "<div>\n",
       "<style scoped>\n",
       "    .dataframe tbody tr th:only-of-type {\n",
       "        vertical-align: middle;\n",
       "    }\n",
       "\n",
       "    .dataframe tbody tr th {\n",
       "        vertical-align: top;\n",
       "    }\n",
       "\n",
       "    .dataframe thead th {\n",
       "        text-align: right;\n",
       "    }\n",
       "</style>\n",
       "<table border=\"1\" class=\"dataframe\">\n",
       "  <thead>\n",
       "    <tr style=\"text-align: right;\">\n",
       "      <th></th>\n",
       "      <th>id</th>\n",
       "      <th>keyword</th>\n",
       "      <th>location</th>\n",
       "      <th>text</th>\n",
       "      <th>target</th>\n",
       "    </tr>\n",
       "  </thead>\n",
       "  <tbody>\n",
       "    <tr>\n",
       "      <th>31</th>\n",
       "      <td>48</td>\n",
       "      <td>ablaze</td>\n",
       "      <td>Birmingham</td>\n",
       "      <td>@bbcmtd Wholesale Markets ablaze http://t.co/l...</td>\n",
       "      <td>1</td>\n",
       "    </tr>\n",
       "    <tr>\n",
       "      <th>32</th>\n",
       "      <td>49</td>\n",
       "      <td>ablaze</td>\n",
       "      <td>Est. September 2012 - Bristol</td>\n",
       "      <td>We always try to bring the heavy. #metal #RT h...</td>\n",
       "      <td>0</td>\n",
       "    </tr>\n",
       "    <tr>\n",
       "      <th>33</th>\n",
       "      <td>50</td>\n",
       "      <td>ablaze</td>\n",
       "      <td>AFRICA</td>\n",
       "      <td>#AFRICANBAZE: Breaking news:Nigeria flag set a...</td>\n",
       "      <td>1</td>\n",
       "    </tr>\n",
       "    <tr>\n",
       "      <th>34</th>\n",
       "      <td>52</td>\n",
       "      <td>ablaze</td>\n",
       "      <td>Philadelphia, PA</td>\n",
       "      <td>Crying out for more! Set me ablaze</td>\n",
       "      <td>0</td>\n",
       "    </tr>\n",
       "    <tr>\n",
       "      <th>35</th>\n",
       "      <td>53</td>\n",
       "      <td>ablaze</td>\n",
       "      <td>London, UK</td>\n",
       "      <td>On plus side LOOK AT THE SKY LAST NIGHT IT WAS...</td>\n",
       "      <td>0</td>\n",
       "    </tr>\n",
       "  </tbody>\n",
       "</table>\n",
       "</div>"
      ],
      "text/plain": [
       "    id keyword                       location  \\\n",
       "31  48  ablaze                     Birmingham   \n",
       "32  49  ablaze  Est. September 2012 - Bristol   \n",
       "33  50  ablaze                         AFRICA   \n",
       "34  52  ablaze               Philadelphia, PA   \n",
       "35  53  ablaze                     London, UK   \n",
       "\n",
       "                                                 text  target  \n",
       "31  @bbcmtd Wholesale Markets ablaze http://t.co/l...       1  \n",
       "32  We always try to bring the heavy. #metal #RT h...       0  \n",
       "33  #AFRICANBAZE: Breaking news:Nigeria flag set a...       1  \n",
       "34                 Crying out for more! Set me ablaze       0  \n",
       "35  On plus side LOOK AT THE SKY LAST NIGHT IT WAS...       0  "
      ]
     },
     "execution_count": 7,
     "metadata": {},
     "output_type": "execute_result"
    }
   ],
   "source": [
    "# lets look at examples of keywords\n",
    "train_df[train_df[\"keyword\"].notna()].head()"
   ]
  },
  {
   "cell_type": "code",
   "execution_count": 8,
   "id": "f6adf636",
   "metadata": {
    "execution": {
     "iopub.execute_input": "2023-04-17T17:41:31.773166Z",
     "iopub.status.busy": "2023-04-17T17:41:31.772478Z",
     "iopub.status.idle": "2023-04-17T17:41:31.780294Z",
     "shell.execute_reply": "2023-04-17T17:41:31.779382Z"
    },
    "papermill": {
     "duration": 0.022741,
     "end_time": "2023-04-17T17:41:31.782342",
     "exception": false,
     "start_time": "2023-04-17T17:41:31.759601",
     "status": "completed"
    },
    "tags": []
   },
   "outputs": [
    {
     "data": {
      "text/plain": [
       "2533"
      ]
     },
     "execution_count": 8,
     "metadata": {},
     "output_type": "execute_result"
    }
   ],
   "source": [
    "# count null values for location\n",
    "train_df[\"location\"].isna().sum()"
   ]
  },
  {
   "cell_type": "code",
   "execution_count": 9,
   "id": "d99b35cb",
   "metadata": {
    "execution": {
     "iopub.execute_input": "2023-04-17T17:41:31.807541Z",
     "iopub.status.busy": "2023-04-17T17:41:31.806890Z",
     "iopub.status.idle": "2023-04-17T17:41:31.821133Z",
     "shell.execute_reply": "2023-04-17T17:41:31.820051Z"
    },
    "papermill": {
     "duration": 0.030007,
     "end_time": "2023-04-17T17:41:31.823734",
     "exception": false,
     "start_time": "2023-04-17T17:41:31.793727",
     "status": "completed"
    },
    "tags": []
   },
   "outputs": [
    {
     "data": {
      "text/html": [
       "<div>\n",
       "<style scoped>\n",
       "    .dataframe tbody tr th:only-of-type {\n",
       "        vertical-align: middle;\n",
       "    }\n",
       "\n",
       "    .dataframe tbody tr th {\n",
       "        vertical-align: top;\n",
       "    }\n",
       "\n",
       "    .dataframe thead th {\n",
       "        text-align: right;\n",
       "    }\n",
       "</style>\n",
       "<table border=\"1\" class=\"dataframe\">\n",
       "  <thead>\n",
       "    <tr style=\"text-align: right;\">\n",
       "      <th></th>\n",
       "      <th>id</th>\n",
       "      <th>keyword</th>\n",
       "      <th>location</th>\n",
       "      <th>text</th>\n",
       "      <th>target</th>\n",
       "    </tr>\n",
       "  </thead>\n",
       "  <tbody>\n",
       "    <tr>\n",
       "      <th>31</th>\n",
       "      <td>48</td>\n",
       "      <td>ablaze</td>\n",
       "      <td>Birmingham</td>\n",
       "      <td>@bbcmtd Wholesale Markets ablaze http://t.co/l...</td>\n",
       "      <td>1</td>\n",
       "    </tr>\n",
       "    <tr>\n",
       "      <th>32</th>\n",
       "      <td>49</td>\n",
       "      <td>ablaze</td>\n",
       "      <td>Est. September 2012 - Bristol</td>\n",
       "      <td>We always try to bring the heavy. #metal #RT h...</td>\n",
       "      <td>0</td>\n",
       "    </tr>\n",
       "    <tr>\n",
       "      <th>33</th>\n",
       "      <td>50</td>\n",
       "      <td>ablaze</td>\n",
       "      <td>AFRICA</td>\n",
       "      <td>#AFRICANBAZE: Breaking news:Nigeria flag set a...</td>\n",
       "      <td>1</td>\n",
       "    </tr>\n",
       "    <tr>\n",
       "      <th>34</th>\n",
       "      <td>52</td>\n",
       "      <td>ablaze</td>\n",
       "      <td>Philadelphia, PA</td>\n",
       "      <td>Crying out for more! Set me ablaze</td>\n",
       "      <td>0</td>\n",
       "    </tr>\n",
       "    <tr>\n",
       "      <th>35</th>\n",
       "      <td>53</td>\n",
       "      <td>ablaze</td>\n",
       "      <td>London, UK</td>\n",
       "      <td>On plus side LOOK AT THE SKY LAST NIGHT IT WAS...</td>\n",
       "      <td>0</td>\n",
       "    </tr>\n",
       "  </tbody>\n",
       "</table>\n",
       "</div>"
      ],
      "text/plain": [
       "    id keyword                       location  \\\n",
       "31  48  ablaze                     Birmingham   \n",
       "32  49  ablaze  Est. September 2012 - Bristol   \n",
       "33  50  ablaze                         AFRICA   \n",
       "34  52  ablaze               Philadelphia, PA   \n",
       "35  53  ablaze                     London, UK   \n",
       "\n",
       "                                                 text  target  \n",
       "31  @bbcmtd Wholesale Markets ablaze http://t.co/l...       1  \n",
       "32  We always try to bring the heavy. #metal #RT h...       0  \n",
       "33  #AFRICANBAZE: Breaking news:Nigeria flag set a...       1  \n",
       "34                 Crying out for more! Set me ablaze       0  \n",
       "35  On plus side LOOK AT THE SKY LAST NIGHT IT WAS...       0  "
      ]
     },
     "execution_count": 9,
     "metadata": {},
     "output_type": "execute_result"
    }
   ],
   "source": [
    "# lets look at examples of location\n",
    "train_df[train_df[\"location\"].notna()].head()"
   ]
  },
  {
   "cell_type": "code",
   "execution_count": 10,
   "id": "0cf07400",
   "metadata": {
    "execution": {
     "iopub.execute_input": "2023-04-17T17:41:31.849737Z",
     "iopub.status.busy": "2023-04-17T17:41:31.849075Z",
     "iopub.status.idle": "2023-04-17T17:41:31.913092Z",
     "shell.execute_reply": "2023-04-17T17:41:31.911606Z"
    },
    "papermill": {
     "duration": 0.080216,
     "end_time": "2023-04-17T17:41:31.915718",
     "exception": false,
     "start_time": "2023-04-17T17:41:31.835502",
     "status": "completed"
    },
    "tags": []
   },
   "outputs": [
    {
     "name": "stdout",
     "output_type": "stream",
     "text": [
      "27983\n"
     ]
    }
   ],
   "source": [
    "# lets get an idea of vocab size\n",
    "from collections import Counter\n",
    "results = Counter()\n",
    "train_df['text'].str.lower().str.split().apply(results.update)\n",
    "print(len(results))"
   ]
  },
  {
   "cell_type": "code",
   "execution_count": 11,
   "id": "171e86d6",
   "metadata": {
    "execution": {
     "iopub.execute_input": "2023-04-17T17:41:31.941998Z",
     "iopub.status.busy": "2023-04-17T17:41:31.941352Z",
     "iopub.status.idle": "2023-04-17T17:41:31.966643Z",
     "shell.execute_reply": "2023-04-17T17:41:31.965615Z"
    },
    "papermill": {
     "duration": 0.041526,
     "end_time": "2023-04-17T17:41:31.969010",
     "exception": false,
     "start_time": "2023-04-17T17:41:31.927484",
     "status": "completed"
    },
    "tags": []
   },
   "outputs": [
    {
     "data": {
      "text/plain": [
       "31"
      ]
     },
     "execution_count": 11,
     "metadata": {},
     "output_type": "execute_result"
    }
   ],
   "source": [
    "# max length of tweet\n",
    "train_df['text'].str.split().str.len().max()"
   ]
  },
  {
   "cell_type": "code",
   "execution_count": 12,
   "id": "a8353eb2",
   "metadata": {
    "execution": {
     "iopub.execute_input": "2023-04-17T17:41:31.994348Z",
     "iopub.status.busy": "2023-04-17T17:41:31.993949Z",
     "iopub.status.idle": "2023-04-17T17:41:32.009054Z",
     "shell.execute_reply": "2023-04-17T17:41:32.007601Z"
    },
    "papermill": {
     "duration": 0.03059,
     "end_time": "2023-04-17T17:41:32.011512",
     "exception": false,
     "start_time": "2023-04-17T17:41:31.980922",
     "status": "completed"
    },
    "tags": []
   },
   "outputs": [
    {
     "data": {
      "text/plain": [
       "(179, 5)"
      ]
     },
     "execution_count": 12,
     "metadata": {},
     "output_type": "execute_result"
    }
   ],
   "source": [
    "# check for duplicate tweets\n",
    "duplicates_df = train_df[train_df[\"text\"].duplicated(keep=False)]\n",
    "duplicates_df.shape"
   ]
  },
  {
   "cell_type": "code",
   "execution_count": 13,
   "id": "c086e12d",
   "metadata": {
    "execution": {
     "iopub.execute_input": "2023-04-17T17:41:32.037607Z",
     "iopub.status.busy": "2023-04-17T17:41:32.036838Z",
     "iopub.status.idle": "2023-04-17T17:41:32.052123Z",
     "shell.execute_reply": "2023-04-17T17:41:32.051284Z"
    },
    "papermill": {
     "duration": 0.031937,
     "end_time": "2023-04-17T17:41:32.055378",
     "exception": false,
     "start_time": "2023-04-17T17:41:32.023441",
     "status": "completed"
    },
    "tags": []
   },
   "outputs": [
    {
     "name": "stdout",
     "output_type": "stream",
     "text": [
      "                                                   text  target\n",
      "4290  #Allah describes piling up #wealth thinking it...       0\n",
      "4299  #Allah describes piling up #wealth thinking it...       0\n",
      "4312  #Allah describes piling up #wealth thinking it...       1\n",
      "6363  #Bestnaijamade: 16yr old PKK suicide bomber wh...       1\n",
      "6373  #Bestnaijamade: 16yr old PKK suicide bomber wh...       1\n",
      "6377  #Bestnaijamade: 16yr old PKK suicide bomber wh...       1\n",
      "6378  #Bestnaijamade: 16yr old PKK suicide bomber wh...       1\n",
      "6392  #Bestnaijamade: 16yr old PKK suicide bomber wh...       1\n",
      "6366  #Bestnaijamade: 16yr old PKK suicide bomber wh...       1\n",
      "2828  #KCA #VoteJKT48ID 12News: UPDATE: A family of ...       1\n",
      "2822  #KCA #VoteJKT48ID 12News: UPDATE: A family of ...       1\n",
      "2816  #Myanmar  Displaced #Rohingya at #Sittwe point...       1\n",
      "2841  #Myanmar  Displaced #Rohingya at #Sittwe point...       1\n",
      "1704  #Newswatch: 2 vehicles collided at Lock and La...       1\n",
      "1725  #Newswatch: 2 vehicles collided at Lock and La...       1\n",
      "3795  #SigAlert: North &amp; Southbound 133 closed b...       1\n",
      "3790  #SigAlert: North &amp; Southbound 133 closed b...       1\n",
      "1242  #TweetLikeItsSeptember11th2001 Those two build...       1\n",
      "1251  #TweetLikeItsSeptember11th2001 Those two build...       1\n",
      "4239  #foodscare #offers2go #NestleIndia slips into ...       1\n",
      "4221  #foodscare #offers2go #NestleIndia slips into ...       1\n",
      "4244  #foodscare #offers2go #NestleIndia slips into ...       0\n",
      "7097  #stormchase Violent Record Breaking EF-5 El Re...       1\n",
      "7607  #stormchase Violent Record Breaking EF-5 El Re...       1\n",
      "6449  'Suicide bombing at [location named]...' #prem...       1\n",
      "6434  'Suicide bombing at [location named]...' #prem...       1\n",
      "7034  (#LosDelSonido) Obama Declares Disaster for Ty...       1\n",
      "2719  (#LosDelSonido) Obama Declares Disaster for Ty...       1\n",
      "2833  .POTUS #StrategicPatience is a strategy for #G...       1\n",
      "2831  .POTUS #StrategicPatience is a strategy for #G...       1\n",
      "2830  .POTUS #StrategicPatience is a strategy for #G...       1\n",
      "2832  .POTUS #StrategicPatience is a strategy for #G...       0\n",
      "3589  11-Year-Old Boy Charged With Manslaughter of T...       1\n",
      "3597  11-Year-Old Boy Charged With Manslaughter of T...       1\n",
      "3610  11-Year-Old Boy Charged With Manslaughter of T...       1\n",
      "3603  11-Year-Old Boy Charged With Manslaughter of T...       1\n",
      "3591  11-Year-Old Boy Charged With Manslaughter of T...       1\n",
      "3600  11-Year-Old Boy Charged With Manslaughter of T...       1\n",
      "3614  11-Year-Old Boy Charged With Manslaughter of T...       1\n",
      "3613  11-Year-Old Boy Charged With Manslaughter of T...       1\n",
      "3604  11-Year-Old Boy Charged With Manslaughter of T...       1\n",
      "3578  11-Year-Old Boy Charged With Manslaughter of T...       1\n",
      "119   320 [IR] ICEMOON [AFTERSHOCK] | http://t.co/TH...       0\n",
      "118   320 [IR] ICEMOON [AFTERSHOCK] | http://t.co/TH...       0\n",
      "115   320 [IR] ICEMOON [AFTERSHOCK] | http://t.co/vA...       0\n",
      "106   320 [IR] ICEMOON [AFTERSHOCK] | http://t.co/vA...       0\n",
      "2679  @TinyJecht Are you another Stand-user? If you ...       0\n",
      "2646  @TinyJecht Are you another Stand-user? If you ...       0\n",
      "2666  @TinyJecht Are you another Stand-user? If you ...       0\n",
      "1201  @_minimehh @cjoyner I must be overlooking the ...       1\n",
      "1356  @_minimehh @cjoyner I must be overlooking the ...       1\n",
      "7315  @aria_ahrary @TheTawniest The out of control w...       1\n",
      "7609  @aria_ahrary @TheTawniest The out of control w...       1\n",
      "3382  @batfanuk we enjoyed the show today. Great fun...       0\n",
      "3163  @batfanuk we enjoyed the show today. Great fun...       0\n",
      "1202  @fewmoretweets all lives matter. Just not a fa...       1\n",
      "1335  @fewmoretweets all lives matter. Just not a fa...       1\n",
      "2674  @spinningbot Are you another Stand-user? If yo...       0\n",
      "2655  @spinningbot Are you another Stand-user? If yo...       0\n",
      "2651  @spinningbot Are you another Stand-user? If yo...       0\n",
      "1343  @themagickidraps not upset with a rally upset ...       1\n",
      "1199  @themagickidraps not upset with a rally upset ...       1\n",
      "4291  Beware of your temper and a loose tongue! Thes...       0\n",
      "4303  Beware of your temper and a loose tongue! Thes...       0\n",
      "4288  Beware of your temper and a loose tongue! Thes...       0\n",
      "1345  Burning buildings? Media outrage? http://t.co/...       1\n",
      "1222  Burning buildings? Media outrage? http://t.co/...       1\n",
      "4597  CLEARED:incident with injury:I-495  inner loop...       1\n",
      "4605  CLEARED:incident with injury:I-495  inner loop...       1\n",
      "4618  CLEARED:incident with injury:I-495  inner loop...       0\n",
      "4232  Caution: breathing may be hazardous to your he...       1\n",
      "4235  Caution: breathing may be hazardous to your he...       0\n",
      "40    Check these out: http://t.co/rOI2NSmEJJ http:/...       0\n",
      "48    Check these out: http://t.co/rOI2NSmEJJ http:/...       0\n",
      "3374  Elem Pomo helping the displaced from the Rocky...       1\n",
      "2850  Elem Pomo helping the displaced from the Rocky...       1\n",
      "3388  Evacuation order lifted for town of Roosevelt:...       1\n",
      "7600  Evacuation order lifted for town of Roosevelt:...       1\n",
      "164   Experts in France begin examining airplane deb...       1\n",
      "147   Experts in France begin examining airplane deb...       1\n",
      "5292  Families to sue over Legionnaires: More than 4...       1\n",
      "5281  Families to sue over Legionnaires: More than 4...       1\n",
      "2345  General News Û¢åÊ'Demolition of houses on wat...       0\n",
      "2352  General News Û¢åÊ'Demolition of houses on wat...       0\n",
      "3248  He came to a land which was engulfed in tribal...       1\n",
      "3251  He came to a land which was engulfed in tribal...       0\n",
      "3243  He came to a land which was engulfed in tribal...       1\n",
      "3266  He came to a land which was engulfed in tribal...       0\n",
      "3261  He came to a land which was engulfed in tribal...       0\n",
      "3240  He came to a land which was engulfed in tribal...       0\n",
      "4305  Hellfire is surrounded by desires so be carefu...       1\n",
      "4313  Hellfire is surrounded by desires so be carefu...       0\n",
      "4285  Hellfire is surrounded by desires so be carefu...       0\n",
      "4308  Hellfire is surrounded by desires so be carefu...       0\n",
      "4294  Hellfire is surrounded by desires so be carefu...       0\n",
      "4320  Hellfire! We donÛªt even want to think about ...       1\n",
      "4306  Hellfire! We donÛªt even want to think about ...       0\n",
      "4293  Hellfire! We donÛªt even want to think about ...       0\n",
      "4310  Hellfire! We donÛªt even want to think about ...       0\n",
      "1214  I Pledge Allegiance To The P.O.P.E. And The Bu...       0\n",
      "1365  I Pledge Allegiance To The P.O.P.E. And The Bu...       1\n",
      "1204  I'm mentally preparing myself for a bomb ass s...       0\n",
      "1332  I'm mentally preparing myself for a bomb ass s...       0\n",
      "6614  In #islam saving a person is equal in reward t...       0\n",
      "6616  In #islam saving a person is equal in reward t...       1\n",
      "1134  Japan on Thursday marks the 70th anniversary o...       1\n",
      "1156  Japan on Thursday marks the 70th anniversary o...       1\n",
      "7140  M1.94 [01:04 UTC]?5km S of Volcano Hawaii. htt...       1\n",
      "7610  M1.94 [01:04 UTC]?5km S of Volcano Hawaii. htt...       1\n",
      "2477  Madhya Pradesh Train Derailment: Village Youth...       1\n",
      "2454  Madhya Pradesh Train Derailment: Village Youth...       1\n",
      "2449  Madhya Pradesh Train Derailment: Village Youth...       1\n",
      "2441  Madhya Pradesh Train Derailment: Village Youth...       1\n",
      "2439  Madhya Pradesh Train Derailment: Village Youth...       1\n",
      "2450  Madhya Pradesh Train Derailment: Village Youth...       1\n",
      "2456  Madhya Pradesh Train Derailment: Village Youth...       1\n",
      "2452  Madhya Pradesh Train Derailment: Village Youth...       1\n",
      "1331  Mmmmmm I'm burning.... I'm burning buildings I...       0\n",
      "1197  Mmmmmm I'm burning.... I'm burning buildings I...       1\n",
      "3390  New evacuation ordered for 25 homes in danger ...       1\n",
      "3329  New evacuation ordered for 25 homes in danger ...       1\n",
      "7611  Police investigating after an e-bike collided ...       1\n",
      "1703  Police investigating after an e-bike collided ...       1\n",
      "6656  RT AbbsWinston: #Zionist #Terrorist kidnapped ...       1\n",
      "6652  RT AbbsWinston: #Zionist #Terrorist kidnapped ...       1\n",
      "4379  RT NotExplained: The only known image of infam...       0\n",
      "4381  RT NotExplained: The only known image of infam...       1\n",
      "1360  Schools in Western Uganda still Burning down B...       1\n",
      "1213  Schools in Western Uganda still Burning down B...       1\n",
      "5771  Stuart Broad Takes Eight Before Joe Root Runs ...       0\n",
      "5742  Stuart Broad Takes Eight Before Joe Root Runs ...       0\n",
      "4351  Swansea Û÷plot hijack transfer move for South...       1\n",
      "4341  Swansea Û÷plot hijack transfer move for South...       1\n",
      "4284  The Prophet (peace be upon him) said 'Save you...       0\n",
      "4286  The Prophet (peace be upon him) said 'Save you...       0\n",
      "4309  The Prophet (peace be upon him) said 'Save you...       0\n",
      "4318  The Prophet (peace be upon him) said 'Save you...       1\n",
      "4292  The Prophet (peace be upon him) said 'Save you...       1\n",
      "4304  The Prophet (peace be upon him) said 'Save you...       0\n",
      "634                          To fight bioterrorism sir.       0\n",
      "630                          To fight bioterrorism sir.       1\n",
      "624                          To fight bioterrorism sir.       0\n",
      "610                          To fight bioterrorism sir.       1\n",
      "2799  Top insurer blasts lack of Australian Govt act...       1\n",
      "5073  Top insurer blasts lack of Australian Govt act...       1\n",
      "1771  Traffic Collision - No Injury: I5 S at I5 S 43...       1\n",
      "4601  Traffic Collision - No Injury: I5 S at I5 S 43...       1\n",
      "5665  UD: Rescue (Structural Collapse) - Scott Road ...       1\n",
      "5652  UD: Rescue (Structural Collapse) - Scott Road ...       1\n",
      "7135  USGS reports a M1.94 #earthquake 5km S of Volc...       1\n",
      "3046  USGS reports a M1.94 #earthquake 5km S of Volc...       1\n",
      "5723  VIDEO: 'We're picking up bodies from water': R...       1\n",
      "5720  VIDEO: 'We're picking up bodies from water': R...       1\n",
      "5716  VIDEO: 'We're picking up bodies from water': R...       1\n",
      "5734  VIDEO: 'We're picking up bodies from water': R...       1\n",
      "1172  Warne shocked over Australia's epic collapse a...       1\n",
      "1623  Warne shocked over Australia's epic collapse a...       1\n",
      "4019  Who is bringing the tornadoes and floods. Who ...       0\n",
      "4013  Who is bringing the tornadoes and floods. Who ...       0\n",
      "3985  Who is bringing the tornadoes and floods. Who ...       1\n",
      "7537  Wreckage 'Conclusively Confirmed' as From MH37...       1\n",
      "7521  Wreckage 'Conclusively Confirmed' as From MH37...       1\n",
      "7533  Wreckage 'Conclusively Confirmed' as From MH37...       1\n",
      "7026  abcnews - Obama Declares Disaster for Typhoon-...       1\n",
      "2736  abcnews - Obama Declares Disaster for Typhoon-...       1\n",
      "4827  http://t.co/c1H7JECFrV @RoyalCarribean do your...       1\n",
      "4834  http://t.co/c1H7JECFrV @RoyalCarribean do your...       1\n",
      "4623  incident with injury:I-495  inner loop Exit 31...       1\n",
      "4631  incident with injury:I-495  inner loop Exit 31...       1\n",
      "1349  like for the music video I want some real acti...       0\n",
      "1221  like for the music video I want some real acti...       1\n",
      "3449  that exploded &amp; brought about the\\nbeginni...       0\n",
      "3461  that exploded &amp; brought about the\\nbeginni...       0\n",
      "6123  that horrible sinking feeling when youÛªve be...       1\n",
      "6091  that horrible sinking feeling when youÛªve be...       1\n",
      "6103  that horrible sinking feeling when youÛªve be...       0\n",
      "6094  that horrible sinking feeling when youÛªve be...       0\n",
      "5641  wowo--=== 12000 Nigerian refugees repatriated ...       0\n",
      "5620  wowo--=== 12000 Nigerian refugees repatriated ...       1\n"
     ]
    }
   ],
   "source": [
    "# lets have a look\n",
    "with pd.option_context('display.max_rows', None,\n",
    "                       'display.max_columns', None,\n",
    "                       ):\n",
    "    print(duplicates_df[['text','target']].sort_values('text'))"
   ]
  },
  {
   "cell_type": "markdown",
   "id": "a3409528",
   "metadata": {
    "papermill": {
     "duration": 0.011945,
     "end_time": "2023-04-17T17:41:32.079414",
     "exception": false,
     "start_time": "2023-04-17T17:41:32.067469",
     "status": "completed"
    },
    "tags": []
   },
   "source": [
    "### Cleaning data"
   ]
  },
  {
   "cell_type": "code",
   "execution_count": 14,
   "id": "27e1dcfc",
   "metadata": {
    "execution": {
     "iopub.execute_input": "2023-04-17T17:41:32.110588Z",
     "iopub.status.busy": "2023-04-17T17:41:32.110222Z",
     "iopub.status.idle": "2023-04-17T17:41:32.210300Z",
     "shell.execute_reply": "2023-04-17T17:41:32.208807Z"
    },
    "papermill": {
     "duration": 0.119964,
     "end_time": "2023-04-17T17:41:32.213220",
     "exception": false,
     "start_time": "2023-04-17T17:41:32.093256",
     "status": "completed"
    },
    "tags": []
   },
   "outputs": [],
   "source": [
    "# search for contradictions\n",
    "contradictory_tweets = set()\n",
    "for tweet in duplicates_df['text']:\n",
    "    if len(set(duplicates_df[duplicates_df['text']==tweet].target)) > 1:\n",
    "        contradictory_tweets.add(tweet)"
   ]
  },
  {
   "cell_type": "code",
   "execution_count": 15,
   "id": "02807262",
   "metadata": {
    "execution": {
     "iopub.execute_input": "2023-04-17T17:41:32.240851Z",
     "iopub.status.busy": "2023-04-17T17:41:32.240429Z",
     "iopub.status.idle": "2023-04-17T17:41:32.246236Z",
     "shell.execute_reply": "2023-04-17T17:41:32.245124Z"
    },
    "papermill": {
     "duration": 0.022764,
     "end_time": "2023-04-17T17:41:32.249101",
     "exception": false,
     "start_time": "2023-04-17T17:41:32.226337",
     "status": "completed"
    },
    "tags": []
   },
   "outputs": [
    {
     "name": "stdout",
     "output_type": "stream",
     "text": [
      "18\n"
     ]
    }
   ],
   "source": [
    "print(len(contradictory_tweets))"
   ]
  },
  {
   "cell_type": "code",
   "execution_count": 16,
   "id": "f9f60541",
   "metadata": {
    "execution": {
     "iopub.execute_input": "2023-04-17T17:41:32.275658Z",
     "iopub.status.busy": "2023-04-17T17:41:32.275255Z",
     "iopub.status.idle": "2023-04-17T17:41:32.282033Z",
     "shell.execute_reply": "2023-04-17T17:41:32.280853Z"
    },
    "papermill": {
     "duration": 0.023066,
     "end_time": "2023-04-17T17:41:32.284570",
     "exception": false,
     "start_time": "2023-04-17T17:41:32.261504",
     "status": "completed"
    },
    "tags": []
   },
   "outputs": [
    {
     "name": "stdout",
     "output_type": "stream",
     "text": [
      "0: Caution: breathing may be hazardous to your health.\n",
      "1: The Prophet (peace be upon him) said 'Save yourself from Hellfire even if it is by giving half a date in charity.'\n",
      "2: Mmmmmm I'm burning.... I'm burning buildings I'm building.... Oooooohhhh oooh ooh...\n",
      "3: #Allah describes piling up #wealth thinking it would last #forever as the description of the people of #Hellfire in Surah Humaza. #Reflect\n",
      "4: I Pledge Allegiance To The P.O.P.E. And The Burning Buildings of Epic City. ??????\n",
      "5: Who is bringing the tornadoes and floods. Who is bringing the climate change. God is after America He is plaguing her\n",
      " \n",
      "#FARRAKHAN #QUOTE\n",
      "6: Hellfire is surrounded by desires so be careful and donÛªt let your desires control you! #Afterlife\n",
      "7: that horrible sinking feeling when youÛªve been at home on your phone for a while and you realise its been on 3G this whole time\n",
      "8: He came to a land which was engulfed in tribal war and turned it into a land of peace i.e. Madinah. #ProphetMuhammad #islam\n",
      "9: wowo--=== 12000 Nigerian refugees repatriated from Cameroon\n",
      "10: #foodscare #offers2go #NestleIndia slips into loss after #Magginoodle #ban unsafe and hazardous for #humanconsumption\n",
      "11: Hellfire! We donÛªt even want to think about it or mention it so letÛªs not do anything that leads to it #islam!\n",
      "12: CLEARED:incident with injury:I-495  inner loop Exit 31 - MD 97/Georgia Ave Silver Spring\n",
      "13: To fight bioterrorism sir.\n",
      "14: RT NotExplained: The only known image of infamous hijacker D.B. Cooper. http://t.co/JlzK2HdeTG\n",
      "15: In #islam saving a person is equal in reward to saving all humans! Islam is the opposite of terrorism!\n",
      "16: like for the music video I want some real action shit like burning buildings and police chases not some weak ben winston shit\n",
      "17: .POTUS #StrategicPatience is a strategy for #Genocide; refugees; IDP Internally displaced people; horror; etc. https://t.co/rqWuoy1fm4\n"
     ]
    }
   ],
   "source": [
    "# not many will manually adjust the labels\n",
    "contradictory_tweets = list(contradictory_tweets)\n",
    "for i,v in enumerate(contradictory_tweets):\n",
    "    print(f\"{i}: {v}\")"
   ]
  },
  {
   "cell_type": "code",
   "execution_count": 17,
   "id": "8a950b78",
   "metadata": {
    "execution": {
     "iopub.execute_input": "2023-04-17T17:41:32.312233Z",
     "iopub.status.busy": "2023-04-17T17:41:32.311835Z",
     "iopub.status.idle": "2023-04-17T17:41:32.319901Z",
     "shell.execute_reply": "2023-04-17T17:41:32.318561Z"
    },
    "papermill": {
     "duration": 0.024989,
     "end_time": "2023-04-17T17:41:32.322182",
     "exception": false,
     "start_time": "2023-04-17T17:41:32.297193",
     "status": "completed"
    },
    "tags": []
   },
   "outputs": [
    {
     "data": {
      "text/plain": [
       "18"
      ]
     },
     "execution_count": 17,
     "metadata": {},
     "output_type": "execute_result"
    }
   ],
   "source": [
    "manual_labels = [0,0,0,0,0,0,0,0,1,0,0,0,0,1,0,0,0,0]\n",
    "#check length is correct\n",
    "len(manual_labels)"
   ]
  },
  {
   "cell_type": "code",
   "execution_count": 18,
   "id": "93c9951a",
   "metadata": {
    "execution": {
     "iopub.execute_input": "2023-04-17T17:41:32.349728Z",
     "iopub.status.busy": "2023-04-17T17:41:32.348904Z",
     "iopub.status.idle": "2023-04-17T17:41:32.354693Z",
     "shell.execute_reply": "2023-04-17T17:41:32.353643Z"
    },
    "papermill": {
     "duration": 0.022424,
     "end_time": "2023-04-17T17:41:32.357118",
     "exception": false,
     "start_time": "2023-04-17T17:41:32.334694",
     "status": "completed"
    },
    "tags": []
   },
   "outputs": [],
   "source": [
    "# make a copy\n",
    "clean_train_df = train_df.copy()"
   ]
  },
  {
   "cell_type": "code",
   "execution_count": 19,
   "id": "76f964d5",
   "metadata": {
    "execution": {
     "iopub.execute_input": "2023-04-17T17:41:32.384044Z",
     "iopub.status.busy": "2023-04-17T17:41:32.383629Z",
     "iopub.status.idle": "2023-04-17T17:41:32.395713Z",
     "shell.execute_reply": "2023-04-17T17:41:32.394656Z"
    },
    "papermill": {
     "duration": 0.028525,
     "end_time": "2023-04-17T17:41:32.398280",
     "exception": false,
     "start_time": "2023-04-17T17:41:32.369755",
     "status": "completed"
    },
    "tags": []
   },
   "outputs": [],
   "source": [
    "# drop duplicates but keep first instance\n",
    "clean_train_df = clean_train_df.drop_duplicates('text')"
   ]
  },
  {
   "cell_type": "code",
   "execution_count": 20,
   "id": "625abdb3",
   "metadata": {
    "execution": {
     "iopub.execute_input": "2023-04-17T17:41:32.425508Z",
     "iopub.status.busy": "2023-04-17T17:41:32.425121Z",
     "iopub.status.idle": "2023-04-17T17:41:32.450528Z",
     "shell.execute_reply": "2023-04-17T17:41:32.449338Z"
    },
    "papermill": {
     "duration": 0.042253,
     "end_time": "2023-04-17T17:41:32.453332",
     "exception": false,
     "start_time": "2023-04-17T17:41:32.411079",
     "status": "completed"
    },
    "tags": []
   },
   "outputs": [],
   "source": [
    "# adjust contradictory tweets following manual labelling\n",
    "for i,v in enumerate(contradictory_tweets):\n",
    "    clean_train_df.loc[clean_train_df['text'] == v,'target'] = manual_labels[i]"
   ]
  },
  {
   "cell_type": "code",
   "execution_count": 21,
   "id": "e048c1ec",
   "metadata": {
    "execution": {
     "iopub.execute_input": "2023-04-17T17:41:32.481035Z",
     "iopub.status.busy": "2023-04-17T17:41:32.480628Z",
     "iopub.status.idle": "2023-04-17T17:41:32.487982Z",
     "shell.execute_reply": "2023-04-17T17:41:32.486630Z"
    },
    "papermill": {
     "duration": 0.024225,
     "end_time": "2023-04-17T17:41:32.490411",
     "exception": false,
     "start_time": "2023-04-17T17:41:32.466186",
     "status": "completed"
    },
    "tags": []
   },
   "outputs": [
    {
     "data": {
      "text/plain": [
       "(7503, 5)"
      ]
     },
     "execution_count": 21,
     "metadata": {},
     "output_type": "execute_result"
    }
   ],
   "source": [
    "#check for right shape\n",
    "clean_train_df.shape"
   ]
  },
  {
   "cell_type": "markdown",
   "id": "f8ab7742",
   "metadata": {
    "papermill": {
     "duration": 0.012933,
     "end_time": "2023-04-17T17:41:32.516148",
     "exception": false,
     "start_time": "2023-04-17T17:41:32.503215",
     "status": "completed"
    },
    "tags": []
   },
   "source": [
    "### Text encoder\n"
   ]
  },
  {
   "cell_type": "code",
   "execution_count": 22,
   "id": "a296210a",
   "metadata": {
    "execution": {
     "iopub.execute_input": "2023-04-17T17:41:32.543608Z",
     "iopub.status.busy": "2023-04-17T17:41:32.543194Z",
     "iopub.status.idle": "2023-04-17T17:41:41.545339Z",
     "shell.execute_reply": "2023-04-17T17:41:41.543835Z"
    },
    "papermill": {
     "duration": 9.019253,
     "end_time": "2023-04-17T17:41:41.548220",
     "exception": false,
     "start_time": "2023-04-17T17:41:32.528967",
     "status": "completed"
    },
    "tags": []
   },
   "outputs": [],
   "source": [
    "import tensorflow as tf"
   ]
  },
  {
   "cell_type": "code",
   "execution_count": 23,
   "id": "82264ecb",
   "metadata": {
    "execution": {
     "iopub.execute_input": "2023-04-17T17:41:41.576089Z",
     "iopub.status.busy": "2023-04-17T17:41:41.575248Z",
     "iopub.status.idle": "2023-04-17T17:41:42.381688Z",
     "shell.execute_reply": "2023-04-17T17:41:42.380748Z"
    },
    "papermill": {
     "duration": 0.823111,
     "end_time": "2023-04-17T17:41:42.384274",
     "exception": false,
     "start_time": "2023-04-17T17:41:41.561163",
     "status": "completed"
    },
    "tags": []
   },
   "outputs": [],
   "source": [
    "VOCAB_SIZE = 28000 # actual vocab size is ~28k in training set.\n",
    "encoder = tf.keras.layers.TextVectorization(\n",
    "    max_tokens=VOCAB_SIZE)\n",
    "encoder.adapt(clean_train_df['text'])"
   ]
  },
  {
   "cell_type": "code",
   "execution_count": 24,
   "id": "9adbc0ca",
   "metadata": {
    "execution": {
     "iopub.execute_input": "2023-04-17T17:41:42.412311Z",
     "iopub.status.busy": "2023-04-17T17:41:42.411208Z",
     "iopub.status.idle": "2023-04-17T17:41:42.497290Z",
     "shell.execute_reply": "2023-04-17T17:41:42.495735Z"
    },
    "papermill": {
     "duration": 0.102922,
     "end_time": "2023-04-17T17:41:42.500119",
     "exception": false,
     "start_time": "2023-04-17T17:41:42.397197",
     "status": "completed"
    },
    "tags": []
   },
   "outputs": [
    {
     "data": {
      "text/plain": [
       "array(['', '[UNK]', 'the', 'a', 'in', 'to', 'of', 'and', 'i', 'is', 'for',\n",
       "       'on', 'you', 'my', 'that', 'it', 'with', 'at', 'by', 'this'],\n",
       "      dtype='<U52')"
      ]
     },
     "execution_count": 24,
     "metadata": {},
     "output_type": "execute_result"
    }
   ],
   "source": [
    "# checking the encoding\n",
    "vocab = np.array(encoder.get_vocabulary())\n",
    "vocab[:20]"
   ]
  },
  {
   "cell_type": "markdown",
   "id": "8329e84c",
   "metadata": {
    "papermill": {
     "duration": 0.01296,
     "end_time": "2023-04-17T17:41:42.526544",
     "exception": false,
     "start_time": "2023-04-17T17:41:42.513584",
     "status": "completed"
    },
    "tags": []
   },
   "source": [
    "### Create model\n",
    "Will be using k-fold validation on data. Given size of data is roughly ~8k will set k = 4."
   ]
  },
  {
   "cell_type": "code",
   "execution_count": 25,
   "id": "e387ae87",
   "metadata": {
    "execution": {
     "iopub.execute_input": "2023-04-17T17:41:42.555578Z",
     "iopub.status.busy": "2023-04-17T17:41:42.555139Z",
     "iopub.status.idle": "2023-04-17T17:41:42.560625Z",
     "shell.execute_reply": "2023-04-17T17:41:42.559500Z"
    },
    "papermill": {
     "duration": 0.022348,
     "end_time": "2023-04-17T17:41:42.562875",
     "exception": false,
     "start_time": "2023-04-17T17:41:42.540527",
     "status": "completed"
    },
    "tags": []
   },
   "outputs": [],
   "source": [
    "# model config\n",
    "batch_size = 50\n",
    "no_epochs = 10\n",
    "verbosity = 2\n",
    "num_folds = 4"
   ]
  },
  {
   "cell_type": "code",
   "execution_count": 26,
   "id": "12903a32",
   "metadata": {
    "execution": {
     "iopub.execute_input": "2023-04-17T17:41:42.590612Z",
     "iopub.status.busy": "2023-04-17T17:41:42.590161Z",
     "iopub.status.idle": "2023-04-17T17:41:42.598059Z",
     "shell.execute_reply": "2023-04-17T17:41:42.596786Z"
    },
    "papermill": {
     "duration": 0.024799,
     "end_time": "2023-04-17T17:41:42.600502",
     "exception": false,
     "start_time": "2023-04-17T17:41:42.575703",
     "status": "completed"
    },
    "tags": []
   },
   "outputs": [],
   "source": [
    "# Define the model architecture\n",
    "def create_model():\n",
    "    model = tf.keras.Sequential([\n",
    "        tf.keras.Input(shape=(1,), dtype=tf.string),\n",
    "        encoder,\n",
    "        tf.keras.layers.Embedding(len(encoder.get_vocabulary()), 64, mask_zero=True),\n",
    "        tf.keras.layers.Bidirectional(tf.keras.layers.LSTM(64,  return_sequences=True)),\n",
    "        tf.keras.layers.Bidirectional(tf.keras.layers.LSTM(32)),\n",
    "        tf.keras.layers.Dense(64, activation='relu'),\n",
    "        tf.keras.layers.Dropout(0.5),\n",
    "        tf.keras.layers.Dense(1)\n",
    "    ])\n",
    "    return model"
   ]
  },
  {
   "cell_type": "markdown",
   "id": "4677bb40",
   "metadata": {
    "papermill": {
     "duration": 0.013082,
     "end_time": "2023-04-17T17:41:42.626518",
     "exception": false,
     "start_time": "2023-04-17T17:41:42.613436",
     "status": "completed"
    },
    "tags": []
   },
   "source": [
    "### Find optimal number of epochs to train for"
   ]
  },
  {
   "cell_type": "code",
   "execution_count": 27,
   "id": "12ace78a",
   "metadata": {
    "execution": {
     "iopub.execute_input": "2023-04-17T17:41:42.654041Z",
     "iopub.status.busy": "2023-04-17T17:41:42.653632Z",
     "iopub.status.idle": "2023-04-17T17:41:42.658662Z",
     "shell.execute_reply": "2023-04-17T17:41:42.657561Z"
    },
    "papermill": {
     "duration": 0.021584,
     "end_time": "2023-04-17T17:41:42.660912",
     "exception": false,
     "start_time": "2023-04-17T17:41:42.639328",
     "status": "completed"
    },
    "tags": []
   },
   "outputs": [],
   "source": [
    "# turn inputs + targets to numpy arrays\n",
    "inputs = clean_train_df['text'].to_numpy()\n",
    "targets = clean_train_df['target'].to_numpy()"
   ]
  },
  {
   "cell_type": "code",
   "execution_count": 28,
   "id": "3758ebd5",
   "metadata": {
    "execution": {
     "iopub.execute_input": "2023-04-17T17:41:42.688787Z",
     "iopub.status.busy": "2023-04-17T17:41:42.688361Z",
     "iopub.status.idle": "2023-04-17T17:43:31.843473Z",
     "shell.execute_reply": "2023-04-17T17:43:31.842223Z"
    },
    "papermill": {
     "duration": 109.172072,
     "end_time": "2023-04-17T17:43:31.846100",
     "exception": false,
     "start_time": "2023-04-17T17:41:42.674028",
     "status": "completed"
    },
    "tags": []
   },
   "outputs": [
    {
     "name": "stdout",
     "output_type": "stream",
     "text": [
      "Epoch 1/10\n",
      "113/113 - 31s - loss: 0.6894 - accuracy: 0.5809 - val_loss: 0.6877 - val_accuracy: 0.5565 - 31s/epoch - 271ms/step\n",
      "Epoch 2/10\n",
      "113/113 - 8s - loss: 0.6635 - accuracy: 0.5809 - val_loss: 0.6373 - val_accuracy: 0.5565 - 8s/epoch - 68ms/step\n",
      "Epoch 3/10\n",
      "113/113 - 8s - loss: 0.5017 - accuracy: 0.7308 - val_loss: 0.5318 - val_accuracy: 0.7473 - 8s/epoch - 71ms/step\n",
      "Epoch 4/10\n",
      "113/113 - 8s - loss: 0.3183 - accuracy: 0.8832 - val_loss: 0.5824 - val_accuracy: 0.7537 - 8s/epoch - 72ms/step\n",
      "Epoch 5/10\n",
      "113/113 - 8s - loss: 0.2096 - accuracy: 0.9287 - val_loss: 0.6552 - val_accuracy: 0.7543 - 8s/epoch - 74ms/step\n",
      "Epoch 6/10\n",
      "113/113 - 8s - loss: 0.1379 - accuracy: 0.9570 - val_loss: 0.8155 - val_accuracy: 0.7468 - 8s/epoch - 72ms/step\n",
      "Epoch 7/10\n",
      "113/113 - 8s - loss: 0.0991 - accuracy: 0.9725 - val_loss: 0.9373 - val_accuracy: 0.7399 - 8s/epoch - 73ms/step\n",
      "Epoch 8/10\n",
      "113/113 - 9s - loss: 0.0650 - accuracy: 0.9822 - val_loss: 1.1136 - val_accuracy: 0.7175 - 9s/epoch - 77ms/step\n",
      "Epoch 9/10\n",
      "113/113 - 8s - loss: 0.0503 - accuracy: 0.9874 - val_loss: 1.2347 - val_accuracy: 0.7143 - 8s/epoch - 75ms/step\n",
      "Epoch 10/10\n",
      "113/113 - 8s - loss: 0.0346 - accuracy: 0.9927 - val_loss: 1.3631 - val_accuracy: 0.7100 - 8s/epoch - 71ms/step\n"
     ]
    }
   ],
   "source": [
    "# From previous experience, overfitting is a problem. Let's work out the optimal\n",
    "# number of epochs to train for.\n",
    "\n",
    "# Define the model architecture\n",
    "model = create_model()\n",
    "\n",
    "# Compile the model\n",
    "model.compile(loss=tf.keras.losses.BinaryCrossentropy(from_logits=True),\n",
    "            optimizer=tf.keras.optimizers.Adam(1e-4),\n",
    "            metrics=['accuracy'])\n",
    "\n",
    "# Fit data to model\n",
    "history = model.fit(inputs, targets,\n",
    "          batch_size=batch_size,\n",
    "          validation_split=0.25,\n",
    "          epochs=10,\n",
    "          verbose=verbosity)"
   ]
  },
  {
   "cell_type": "code",
   "execution_count": 29,
   "id": "8f1cf85a",
   "metadata": {
    "execution": {
     "iopub.execute_input": "2023-04-17T17:43:31.876414Z",
     "iopub.status.busy": "2023-04-17T17:43:31.876038Z",
     "iopub.status.idle": "2023-04-17T17:43:32.370663Z",
     "shell.execute_reply": "2023-04-17T17:43:32.369474Z"
    },
    "papermill": {
     "duration": 0.512853,
     "end_time": "2023-04-17T17:43:32.373139",
     "exception": false,
     "start_time": "2023-04-17T17:43:31.860286",
     "status": "completed"
    },
    "tags": []
   },
   "outputs": [
    {
     "data": {
      "image/png": "[encoded data removed]",
      "text/plain": [
       "<Figure size 640x480 with 1 Axes>"
      ]
     },
     "metadata": {},
     "output_type": "display_data"
    },
    {
     "data": {
      "image/png": "[encoded data removed]",
      "text/plain": [
       "<Figure size 640x480 with 1 Axes>"
      ]
     },
     "metadata": {},
     "output_type": "display_data"
    }
   ],
   "source": [
    "import matplotlib.pyplot as plt\n",
    "\n",
    "# Visualize history\n",
    "# Plot history: Loss\n",
    "plt.plot(history.history['val_loss'], label='val_loss')\n",
    "plt.plot(history.history['loss'], label='loss')\n",
    "plt.title('Validation loss history')\n",
    "plt.ylabel('Loss value')\n",
    "plt.xlabel('No. epoch')\n",
    "plt.legend()\n",
    "plt.show()\n",
    "\n",
    "# Plot history: Accuracy\n",
    "plt.plot(history.history['val_accuracy'], label='val_accuracy')\n",
    "plt.plot(history.history['accuracy'], label='accuray')\n",
    "plt.title('Validation accuracy history')\n",
    "plt.ylabel('Accuracy value (%)')\n",
    "plt.xlabel('No. epoch')\n",
    "plt.legend()\n",
    "plt.show()"
   ]
  },
  {
   "cell_type": "markdown",
   "id": "6aaca619",
   "metadata": {
    "papermill": {
     "duration": 0.015671,
     "end_time": "2023-04-17T17:43:32.404307",
     "exception": false,
     "start_time": "2023-04-17T17:43:32.388636",
     "status": "completed"
    },
    "tags": []
   },
   "source": [
    "From this it's clear we should only train the model for 3/4 epochs. Let's go for 3 since it's faster."
   ]
  },
  {
   "cell_type": "markdown",
   "id": "becbf433",
   "metadata": {
    "papermill": {
     "duration": 0.014852,
     "end_time": "2023-04-17T17:43:32.434320",
     "exception": false,
     "start_time": "2023-04-17T17:43:32.419468",
     "status": "completed"
    },
    "tags": []
   },
   "source": [
    "### K fold cross validation"
   ]
  },
  {
   "cell_type": "code",
   "execution_count": 30,
   "id": "42a7addb",
   "metadata": {
    "execution": {
     "iopub.execute_input": "2023-04-17T17:43:32.467220Z",
     "iopub.status.busy": "2023-04-17T17:43:32.466429Z",
     "iopub.status.idle": "2023-04-17T17:43:33.231753Z",
     "shell.execute_reply": "2023-04-17T17:43:33.230509Z"
    },
    "papermill": {
     "duration": 0.784989,
     "end_time": "2023-04-17T17:43:33.234490",
     "exception": false,
     "start_time": "2023-04-17T17:43:32.449501",
     "status": "completed"
    },
    "tags": []
   },
   "outputs": [],
   "source": [
    "from sklearn.model_selection import KFold\n",
    "\n",
    "# Define the K-fold Cross Validator\n",
    "kfold = KFold(n_splits=num_folds, shuffle=True)"
   ]
  },
  {
   "cell_type": "code",
   "execution_count": 31,
   "id": "9dc803fd",
   "metadata": {
    "execution": {
     "iopub.execute_input": "2023-04-17T17:43:33.267648Z",
     "iopub.status.busy": "2023-04-17T17:43:33.267197Z",
     "iopub.status.idle": "2023-04-17T17:43:33.272017Z",
     "shell.execute_reply": "2023-04-17T17:43:33.270874Z"
    },
    "papermill": {
     "duration": 0.024073,
     "end_time": "2023-04-17T17:43:33.274331",
     "exception": false,
     "start_time": "2023-04-17T17:43:33.250258",
     "status": "completed"
    },
    "tags": []
   },
   "outputs": [],
   "source": [
    "# Define per-fold score containers\n",
    "acc_per_fold = []\n",
    "loss_per_fold = []"
   ]
  },
  {
   "cell_type": "code",
   "execution_count": 32,
   "id": "eab7951c",
   "metadata": {
    "execution": {
     "iopub.execute_input": "2023-04-17T17:43:33.306955Z",
     "iopub.status.busy": "2023-04-17T17:43:33.306382Z",
     "iopub.status.idle": "2023-04-17T17:51:17.781163Z",
     "shell.execute_reply": "2023-04-17T17:51:17.780111Z"
    },
    "papermill": {
     "duration": 464.494519,
     "end_time": "2023-04-17T17:51:17.784061",
     "exception": false,
     "start_time": "2023-04-17T17:43:33.289542",
     "status": "completed"
    },
    "tags": []
   },
   "outputs": [
    {
     "name": "stdout",
     "output_type": "stream",
     "text": [
      "------------------------------------------------------------------------\n",
      "Training for fold 1 ...\n",
      "Epoch 1/3\n",
      "113/113 - 24s - loss: 0.6877 - accuracy: 0.5733 - 24s/epoch - 216ms/step\n",
      "Epoch 2/3\n",
      "113/113 - 8s - loss: 0.6344 - accuracy: 0.5776 - 8s/epoch - 69ms/step\n",
      "Epoch 3/3\n",
      "113/113 - 8s - loss: 0.4417 - accuracy: 0.8056 - 8s/epoch - 69ms/step\n",
      "Score for fold 1: loss of 0.49011990427970886; accuracy of 78.67803573608398%\n",
      "------------------------------------------------------------------------\n",
      "Training for fold 2 ...\n",
      "Epoch 1/3\n",
      "113/113 - 26s - loss: 0.6886 - accuracy: 0.5756 - 26s/epoch - 230ms/step\n",
      "Epoch 2/3\n",
      "113/113 - 7s - loss: 0.6427 - accuracy: 0.5770 - 7s/epoch - 63ms/step\n",
      "Epoch 3/3\n",
      "113/113 - 7s - loss: 0.4640 - accuracy: 0.7935 - 7s/epoch - 64ms/step\n",
      "Score for fold 2: loss of 0.4929364025592804; accuracy of 79.31769490242004%\n",
      "------------------------------------------------------------------------\n",
      "Training for fold 3 ...\n",
      "Epoch 1/3\n",
      "113/113 - 24s - loss: 0.6896 - accuracy: 0.5790 - 24s/epoch - 212ms/step\n",
      "Epoch 2/3\n",
      "113/113 - 7s - loss: 0.6574 - accuracy: 0.5790 - 7s/epoch - 64ms/step\n",
      "Epoch 3/3\n",
      "113/113 - 7s - loss: 0.4920 - accuracy: 0.7269 - 7s/epoch - 64ms/step\n",
      "Score for fold 3: loss of 0.5332431197166443; accuracy of 77.02558636665344%\n",
      "------------------------------------------------------------------------\n",
      "Training for fold 4 ...\n",
      "Epoch 1/3\n",
      "113/113 - 23s - loss: 0.6896 - accuracy: 0.5714 - 23s/epoch - 204ms/step\n",
      "Epoch 2/3\n",
      "113/113 - 7s - loss: 0.6495 - accuracy: 0.5716 - 7s/epoch - 63ms/step\n",
      "Epoch 3/3\n",
      "113/113 - 7s - loss: 0.4646 - accuracy: 0.7848 - 7s/epoch - 63ms/step\n",
      "Score for fold 4: loss of 0.47194644808769226; accuracy of 80.15999794006348%\n"
     ]
    }
   ],
   "source": [
    "# K-fold Cross Validation model evaluation\n",
    "fold_no = 1\n",
    "for train, test in kfold.split(inputs, targets):\n",
    "\n",
    "  # Define the model architecture\n",
    "  model = create_model()\n",
    "\n",
    "  # Compile the model\n",
    "  model.compile(loss=tf.keras.losses.BinaryCrossentropy(from_logits=True),\n",
    "                optimizer=tf.keras.optimizers.Adam(1e-4),\n",
    "                metrics=['accuracy'])\n",
    "\n",
    "\n",
    "  # Generate a print\n",
    "  print('------------------------------------------------------------------------')\n",
    "  print(f'Training for fold {fold_no} ...')\n",
    "\n",
    "  # Fit data to model\n",
    "  history = model.fit(inputs[train], targets[train],\n",
    "              batch_size=batch_size,\n",
    "              epochs=3,\n",
    "              verbose=verbosity)\n",
    "\n",
    "  # Generate generalization metrics\n",
    "  scores = model.evaluate(inputs[test], targets[test], verbose=0)\n",
    "  print(f'Score for fold {fold_no}: {model.metrics_names[0]} of {scores[0]}; {model.metrics_names[1]} of {scores[1]*100}%')\n",
    "  acc_per_fold.append(scores[1] * 100)\n",
    "  loss_per_fold.append(scores[0])\n",
    "    \n",
    "  model.save(f\"/models/model_fold_{fold_no}\")\n",
    "\n",
    "  # Increase fold number\n",
    "  fold_no = fold_no + 1\n"
   ]
  },
  {
   "cell_type": "code",
   "execution_count": 33,
   "id": "f7bb548e",
   "metadata": {
    "execution": {
     "iopub.execute_input": "2023-04-17T17:51:17.820754Z",
     "iopub.status.busy": "2023-04-17T17:51:17.820264Z",
     "iopub.status.idle": "2023-04-17T17:51:17.829139Z",
     "shell.execute_reply": "2023-04-17T17:51:17.827653Z"
    },
    "papermill": {
     "duration": 0.031098,
     "end_time": "2023-04-17T17:51:17.832114",
     "exception": false,
     "start_time": "2023-04-17T17:51:17.801016",
     "status": "completed"
    },
    "tags": []
   },
   "outputs": [
    {
     "name": "stdout",
     "output_type": "stream",
     "text": [
      "------------------------------------------------------------------------\n",
      "Score per fold\n",
      "------------------------------------------------------------------------\n",
      "> Fold 1 - Loss: 0.49011990427970886 - Accuracy: 78.67803573608398%\n",
      "------------------------------------------------------------------------\n",
      "> Fold 2 - Loss: 0.4929364025592804 - Accuracy: 79.31769490242004%\n",
      "------------------------------------------------------------------------\n",
      "> Fold 3 - Loss: 0.5332431197166443 - Accuracy: 77.02558636665344%\n",
      "------------------------------------------------------------------------\n",
      "> Fold 4 - Loss: 0.47194644808769226 - Accuracy: 80.15999794006348%\n",
      "------------------------------------------------------------------------\n",
      "Average scores for all folds:\n",
      "> Accuracy: 78.79532873630524 (+- 1.149014158967295)\n",
      "> Loss: 0.49706146866083145\n",
      "------------------------------------------------------------------------\n"
     ]
    }
   ],
   "source": [
    "# Provide average scores\n",
    "print('------------------------------------------------------------------------')\n",
    "print('Score per fold')\n",
    "for i in range(0, len(acc_per_fold)):\n",
    "  print('------------------------------------------------------------------------')\n",
    "  print(f'> Fold {i+1} - Loss: {loss_per_fold[i]} - Accuracy: {acc_per_fold[i]}%')\n",
    "print('------------------------------------------------------------------------')\n",
    "print('Average scores for all folds:')\n",
    "print(f'> Accuracy: {np.mean(acc_per_fold)} (+- {np.std(acc_per_fold)})')\n",
    "print(f'> Loss: {np.mean(loss_per_fold)}')\n",
    "print('------------------------------------------------------------------------')"
   ]
  },
  {
   "cell_type": "markdown",
   "id": "314520ca",
   "metadata": {
    "papermill": {
     "duration": 0.016698,
     "end_time": "2023-04-17T17:51:17.865701",
     "exception": false,
     "start_time": "2023-04-17T17:51:17.849003",
     "status": "completed"
    },
    "tags": []
   },
   "source": [
    "Each fold is pretty similar apart. Lets train a model on the whole data but with only 3 epochs then."
   ]
  },
  {
   "cell_type": "code",
   "execution_count": 34,
   "id": "627567a8",
   "metadata": {
    "execution": {
     "iopub.execute_input": "2023-04-17T17:51:17.901966Z",
     "iopub.status.busy": "2023-04-17T17:51:17.901219Z",
     "iopub.status.idle": "2023-04-17T17:52:21.019568Z",
     "shell.execute_reply": "2023-04-17T17:52:21.018283Z"
    },
    "papermill": {
     "duration": 63.1405,
     "end_time": "2023-04-17T17:52:21.022851",
     "exception": false,
     "start_time": "2023-04-17T17:51:17.882351",
     "status": "completed"
    },
    "tags": []
   },
   "outputs": [
    {
     "name": "stdout",
     "output_type": "stream",
     "text": [
      "Epoch 1/3\n",
      "151/151 - 27s - loss: 0.6855 - accuracy: 0.5748 - 27s/epoch - 177ms/step\n",
      "Epoch 2/3\n",
      "151/151 - 10s - loss: 0.5904 - accuracy: 0.6104 - 10s/epoch - 64ms/step\n",
      "Epoch 3/3\n",
      "151/151 - 10s - loss: 0.3805 - accuracy: 0.8451 - 10s/epoch - 64ms/step\n"
     ]
    }
   ],
   "source": [
    "# Define the model architecture\n",
    "model = create_model()\n",
    "\n",
    "# Compile the model\n",
    "model.compile(loss=tf.keras.losses.BinaryCrossentropy(from_logits=True),\n",
    "            optimizer=tf.keras.optimizers.Adam(1e-4),\n",
    "            metrics=['accuracy'])\n",
    "\n",
    "# Fit data to model\n",
    "history = model.fit(inputs, targets,\n",
    "          batch_size=batch_size,\n",
    "          epochs=3,\n",
    "          verbose=verbosity)"
   ]
  },
  {
   "cell_type": "markdown",
   "id": "860a5800",
   "metadata": {
    "papermill": {
     "duration": 0.016765,
     "end_time": "2023-04-17T17:52:21.056812",
     "exception": false,
     "start_time": "2023-04-17T17:52:21.040047",
     "status": "completed"
    },
    "tags": []
   },
   "source": [
    "### Make predictions"
   ]
  },
  {
   "cell_type": "code",
   "execution_count": 35,
   "id": "cca5a916",
   "metadata": {
    "execution": {
     "iopub.execute_input": "2023-04-17T17:52:21.093524Z",
     "iopub.status.busy": "2023-04-17T17:52:21.093021Z",
     "iopub.status.idle": "2023-04-17T17:52:21.123262Z",
     "shell.execute_reply": "2023-04-17T17:52:21.122254Z"
    },
    "papermill": {
     "duration": 0.052876,
     "end_time": "2023-04-17T17:52:21.126639",
     "exception": false,
     "start_time": "2023-04-17T17:52:21.073763",
     "status": "completed"
    },
    "tags": []
   },
   "outputs": [],
   "source": [
    "non_binary_sample_submission = pd.read_csv(\"/kaggle/input/nlp-getting-started/sample_submission.csv\")\n",
    "sample_submission = pd.read_csv(\"/kaggle/input/nlp-getting-started/sample_submission.csv\")"
   ]
  },
  {
   "cell_type": "code",
   "execution_count": 36,
   "id": "79aef60b",
   "metadata": {
    "execution": {
     "iopub.execute_input": "2023-04-17T17:52:21.175292Z",
     "iopub.status.busy": "2023-04-17T17:52:21.174891Z",
     "iopub.status.idle": "2023-04-17T17:52:23.030706Z",
     "shell.execute_reply": "2023-04-17T17:52:23.029597Z"
    },
    "papermill": {
     "duration": 1.882828,
     "end_time": "2023-04-17T17:52:23.033423",
     "exception": false,
     "start_time": "2023-04-17T17:52:21.150595",
     "status": "completed"
    },
    "tags": []
   },
   "outputs": [],
   "source": [
    "# Given the small test sample, it will be faster to call the model directly rather than using the \n",
    "# predict method. \n",
    "non_binary_sample_submission[\"target\"] = model(test_df['text'])"
   ]
  },
  {
   "cell_type": "code",
   "execution_count": 37,
   "id": "1a3f405e",
   "metadata": {
    "execution": {
     "iopub.execute_input": "2023-04-17T17:52:23.069836Z",
     "iopub.status.busy": "2023-04-17T17:52:23.069382Z",
     "iopub.status.idle": "2023-04-17T17:52:23.077444Z",
     "shell.execute_reply": "2023-04-17T17:52:23.076337Z"
    },
    "papermill": {
     "duration": 0.029019,
     "end_time": "2023-04-17T17:52:23.079836",
     "exception": false,
     "start_time": "2023-04-17T17:52:23.050817",
     "status": "completed"
    },
    "tags": []
   },
   "outputs": [],
   "source": [
    "# turning this into binary output\n",
    "sample_submission['target'] = non_binary_sample_submission['target'].apply(lambda x:0 if x < 0.5 else 1)"
   ]
  },
  {
   "cell_type": "code",
   "execution_count": 38,
   "id": "c47d4e89",
   "metadata": {
    "execution": {
     "iopub.execute_input": "2023-04-17T17:52:23.117057Z",
     "iopub.status.busy": "2023-04-17T17:52:23.116125Z",
     "iopub.status.idle": "2023-04-17T17:52:23.126924Z",
     "shell.execute_reply": "2023-04-17T17:52:23.125765Z"
    },
    "papermill": {
     "duration": 0.031893,
     "end_time": "2023-04-17T17:52:23.129316",
     "exception": false,
     "start_time": "2023-04-17T17:52:23.097423",
     "status": "completed"
    },
    "tags": []
   },
   "outputs": [
    {
     "data": {
      "text/html": [
       "<div>\n",
       "<style scoped>\n",
       "    .dataframe tbody tr th:only-of-type {\n",
       "        vertical-align: middle;\n",
       "    }\n",
       "\n",
       "    .dataframe tbody tr th {\n",
       "        vertical-align: top;\n",
       "    }\n",
       "\n",
       "    .dataframe thead th {\n",
       "        text-align: right;\n",
       "    }\n",
       "</style>\n",
       "<table border=\"1\" class=\"dataframe\">\n",
       "  <thead>\n",
       "    <tr style=\"text-align: right;\">\n",
       "      <th></th>\n",
       "      <th>id</th>\n",
       "      <th>target</th>\n",
       "    </tr>\n",
       "  </thead>\n",
       "  <tbody>\n",
       "    <tr>\n",
       "      <th>0</th>\n",
       "      <td>0</td>\n",
       "      <td>0</td>\n",
       "    </tr>\n",
       "    <tr>\n",
       "      <th>1</th>\n",
       "      <td>2</td>\n",
       "      <td>0</td>\n",
       "    </tr>\n",
       "    <tr>\n",
       "      <th>2</th>\n",
       "      <td>3</td>\n",
       "      <td>1</td>\n",
       "    </tr>\n",
       "    <tr>\n",
       "      <th>3</th>\n",
       "      <td>9</td>\n",
       "      <td>0</td>\n",
       "    </tr>\n",
       "    <tr>\n",
       "      <th>4</th>\n",
       "      <td>11</td>\n",
       "      <td>1</td>\n",
       "    </tr>\n",
       "  </tbody>\n",
       "</table>\n",
       "</div>"
      ],
      "text/plain": [
       "   id  target\n",
       "0   0       0\n",
       "1   2       0\n",
       "2   3       1\n",
       "3   9       0\n",
       "4  11       1"
      ]
     },
     "execution_count": 38,
     "metadata": {},
     "output_type": "execute_result"
    }
   ],
   "source": [
    "sample_submission.head()"
   ]
  },
  {
   "cell_type": "code",
   "execution_count": 39,
   "id": "b9245449",
   "metadata": {
    "execution": {
     "iopub.execute_input": "2023-04-17T17:52:23.166867Z",
     "iopub.status.busy": "2023-04-17T17:52:23.165928Z",
     "iopub.status.idle": "2023-04-17T17:52:23.179428Z",
     "shell.execute_reply": "2023-04-17T17:52:23.178427Z"
    },
    "papermill": {
     "duration": 0.035149,
     "end_time": "2023-04-17T17:52:23.181945",
     "exception": false,
     "start_time": "2023-04-17T17:52:23.146796",
     "status": "completed"
    },
    "tags": []
   },
   "outputs": [],
   "source": [
    "sample_submission.to_csv(\"submission.csv\", index=False)"
   ]
  }
 ],
 "metadata": {
  "kernelspec": {
   "display_name": "Python 3",
   "language": "python",
   "name": "python3"
  },
  "language_info": {
   "codemirror_mode": {
    "name": "ipython",
    "version": 3
   },
   "file_extension": ".py",
   "mimetype": "text/x-python",
   "name": "python",
   "nbconvert_exporter": "python",
   "pygments_lexer": "ipython3",
   "version": "3.7.12"
  },
  "papermill": {
   "default_parameters": {},
   "duration": 665.10398,
   "end_time": "2023-04-17T17:52:26.312655",
   "environment_variables": {},
   "exception": null,
   "input_path": "__notebook__.ipynb",
   "output_path": "__notebook__.ipynb",
   "parameters": {},
   "start_time": "2023-04-17T17:41:21.208675",
   "version": "2.4.0"
  }
 },
 "nbformat": 4,
 "nbformat_minor": 5
}
